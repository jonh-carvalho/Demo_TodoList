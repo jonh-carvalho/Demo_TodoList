{
 "cells": [
  {
   "cell_type": "code",
   "execution_count": 1,
   "metadata": {},
   "outputs": [],
   "source": [
    "# connect_db.py\n",
    "# 01_create_db.py\n",
    "import sqlite3\n",
    "\n",
    "conn = sqlite3.connect('clientes.db')\n",
    "conn.close()"
   ]
  },
  {
   "cell_type": "code",
   "execution_count": 7,
   "metadata": {},
   "outputs": [
    {
     "name": "stdout",
     "output_type": "stream",
     "text": [
      "Tabela criada com sucesso.\n"
     ]
    }
   ],
   "source": [
    "# 02_create_schema.py\n",
    "import sqlite3\n",
    "\n",
    "# conectando...\n",
    "conn = sqlite3.connect('clientes.db')\n",
    "# definindo um cursor\n",
    "cursor = conn.cursor()\n",
    "\n",
    "# criando a tabela (schema)\n",
    "cursor.execute(\"\"\"\n",
    "CREATE TABLE clientess (\n",
    "        id INTEGER NOT NULL PRIMARY KEY AUTOINCREMENT,\n",
    "        nome TEXT NOT NULL,\n",
    "        idade INTEGER,\n",
    "        cpf     VARCHAR(11) NOT NULL,\n",
    "        email TEXT NOT NULL,\n",
    "        fone TEXT,\n",
    "        cidade TEXT,\n",
    "        uf VARCHAR(2) NOT NULL,\n",
    "        criado_em DATE NOT NULL\n",
    ");\n",
    "\"\"\")\n",
    "\n",
    "print('Tabela criada com sucesso.')\n",
    "# desconectando...\n",
    "conn.close()"
   ]
  },
  {
   "cell_type": "code",
   "execution_count": 9,
   "metadata": {},
   "outputs": [
    {
     "data": {
      "text/plain": [
       "'3.37.2'"
      ]
     },
     "execution_count": 9,
     "metadata": {},
     "output_type": "execute_result"
    }
   ],
   "source": [
    "# 03_create_data_sql.py\n",
    "import sqlite3\n",
    "\n",
    "conn = sqlite3.connect('clientes.db')\n",
    "cursor = conn.cursor()\n",
    "\n",
    "# inserindo dados na tabela\n",
    "cursor.execute(\"\"\"\n",
    "INSERT INTO clientes (nome, idade, cpf, email, fone, cidade, uf, criado_em)\n",
    "VALUES ('Regis', 35, '00000000000', 'regis@email.com', '11-98765-4321', 'Sao Paulo', 'SP', '2014-06-08')\n",
    "\"\"\")\n",
    "\n",
    "cursor.execute(\"\"\"\n",
    "INSERT INTO clientes (nome, idade, cpf, email, fone, cidade, uf, criado_em)\n",
    "VALUES ('Aloisio', 87, '11111111111', 'aloisio@email.com', '98765-4322', 'Porto Alegre', 'RS', '2014-06-09')\n",
    "\"\"\")\n",
    "\n",
    "cursor.execute(\"\"\"\n",
    "INSERT INTO clientes (nome, idade, cpf, email, fone, cidade, uf, criado_em)\n",
    "VALUES ('Bruna', 21, '22222222222', 'bruna@email.com', '21-98765-4323', 'Rio de Janeiro', 'RJ', '2014-06-09')\n",
    "\"\"\")\n",
    "\n",
    "cursor.execute(\"\"\"\n",
    "INSERT INTO clientes (nome, idade, cpf, email, fone, cidade, uf, criado_em)\n",
    "VALUES ('Matheus', 19, '33333333333', 'matheus@email.com', '11-98765-4324', 'Campinas', 'SP', '2014-06-08')\n",
    "\"\"\")\n",
    "\n",
    "# gravando no bd\n",
    "conn.commit()\n",
    "\n",
    "print('Dados inseridos com sucesso.')\n",
    "\n",
    "conn.close()"
   ]
  },
  {
   "cell_type": "code",
   "execution_count": null,
   "metadata": {},
   "outputs": [],
   "source": [
    "# 04_read_data.py\n",
    "import sqlite3\n",
    "\n",
    "conn = sqlite3.connect('clientes.db')\n",
    "cursor = conn.cursor()\n",
    "\n",
    "# lendo os dados\n",
    "cursor.execute(\"\"\"\n",
    "SELECT * FROM clientes;\n",
    "\"\"\")\n",
    "\n",
    "for linha in cursor.fetchall():\n",
    "    print(linha)\n",
    "\n",
    "conn.close()"
   ]
  },
  {
   "cell_type": "code",
   "execution_count": null,
   "metadata": {},
   "outputs": [],
   "source": [
    "# 05_update_data.py\n",
    "import sqlite3\n",
    "\n",
    "conn = sqlite3.connect('clientes.db')\n",
    "cursor = conn.cursor()\n",
    "\n",
    "id_cliente = 1\n",
    "novo_fone = '11-1000-2014'\n",
    "novo_criado_em = '2014-06-11'\n",
    "\n",
    "# alterando os dados da tabela\n",
    "cursor.execute(\"\"\"\n",
    "UPDATE clientes\n",
    "SET fone = ?, criado_em = ?\n",
    "WHERE id = ?\n",
    "\"\"\", (novo_fone, novo_criado_em, id_cliente))\n",
    "\n",
    "conn.commit()\n",
    "\n",
    "print('Dados atualizados com sucesso.')\n",
    "\n",
    "conn.close()"
   ]
  },
  {
   "cell_type": "code",
   "execution_count": null,
   "metadata": {},
   "outputs": [],
   "source": [
    "# 07_delete_data.py\n",
    "import sqlite3\n",
    "\n",
    "conn = sqlite3.connect('clientes.db')\n",
    "cursor = conn.cursor()\n",
    "\n",
    "id_cliente = 8\n",
    "\n",
    "# excluindo um registro da tabela\n",
    "cursor.execute(\"\"\"\n",
    "DELETE FROM clientes\n",
    "WHERE id = ?\n",
    "\"\"\", (id_cliente,))\n",
    "\n",
    "conn.commit()\n",
    "\n",
    "print('Registro excluido com sucesso.')\n",
    "\n",
    "conn.close()"
   ]
  },
  {
   "cell_type": "code",
   "execution_count": null,
   "metadata": {},
   "outputs": [],
   "source": [
    "# 09_alter_table.py\n",
    "import sqlite3\n",
    "\n",
    "conn = sqlite3.connect('clientes.db')\n",
    "cursor = conn.cursor()\n",
    "\n",
    "# adicionando uma nova coluna na tabela clientes\n",
    "cursor.execute(\"\"\"\n",
    "ALTER TABLE clientes\n",
    "ADD COLUMN bloqueado BOOLEAN;\n",
    "\"\"\")\n",
    "\n",
    "conn.commit()\n",
    "\n",
    "print('Novo campo adicionado com sucesso.')\n",
    "\n",
    "conn.close()"
   ]
  },
  {
   "cell_type": "code",
   "execution_count": null,
   "metadata": {},
   "outputs": [],
   "source": [
    "# 10_view_table_info.py\n",
    "import sqlite3\n",
    "\n",
    "conn = sqlite3.connect('clientes.db')\n",
    "cursor = conn.cursor()\n",
    "nome_tabela = 'clientes'\n",
    "\n",
    "# obtendo informações da tabela\n",
    "cursor.execute('PRAGMA table_info({})'.format(nome_tabela))\n",
    "\n",
    "colunas = [tupla[1] for tupla in cursor.fetchall()]\n",
    "print('Colunas:', colunas)\n",
    "# ou\n",
    "# for coluna in colunas:\n",
    "#    print(coluna)\n",
    "\n",
    "# listando as tabelas do bd\n",
    "cursor.execute(\"\"\"\n",
    "SELECT name FROM sqlite_master WHERE type='table' ORDER BY name\n",
    "\"\"\")\n",
    "\n",
    "print('Tabelas:')\n",
    "for tabela in cursor.fetchall():\n",
    "    print(\"%s\" % (tabela))\n",
    "\n",
    "# obtendo o schema da tabela\n",
    "cursor.execute(\"\"\"\n",
    "SELECT sql FROM sqlite_master WHERE type='table' AND name=?\n",
    "\"\"\", (nome_tabela,))\n",
    "\n",
    "print('Schema:')\n",
    "for schema in cursor.fetchall():\n",
    "    print(\"%s\" % (schema))\n",
    "\n",
    "conn.close()"
   ]
  }
 ],
 "metadata": {
  "kernelspec": {
   "display_name": ".venv",
   "language": "python",
   "name": "python3"
  },
  "language_info": {
   "codemirror_mode": {
    "name": "ipython",
    "version": 3
   },
   "file_extension": ".py",
   "mimetype": "text/x-python",
   "name": "python",
   "nbconvert_exporter": "python",
   "pygments_lexer": "ipython3",
   "version": "3.10.7"
  }
 },
 "nbformat": 4,
 "nbformat_minor": 2
}
